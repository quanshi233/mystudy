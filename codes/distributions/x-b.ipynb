{
 "cells": [
  {
   "cell_type": "code",
   "execution_count": null,
   "id": "c7b3a7ff",
   "metadata": {},
   "outputs": [
    {
     "ename": "ImportError",
     "evalue": "cannot import name 'comb' from 'comb' (c:\\Users\\15283\\Desktop\\virtual python\\mystudy\\codes\\distributions\\comb.py)",
     "output_type": "error",
     "traceback": [
      "\u001b[31m---------------------------------------------------------------------------\u001b[39m",
      "\u001b[31mImportError\u001b[39m                               Traceback (most recent call last)",
      "\u001b[36mCell\u001b[39m\u001b[36m \u001b[39m\u001b[32mIn[11]\u001b[39m\u001b[32m, line 1\u001b[39m\n\u001b[32m----> \u001b[39m\u001b[32m1\u001b[39m \u001b[38;5;28;01mfrom\u001b[39;00m\u001b[38;5;250m \u001b[39m\u001b[34;01mcomb\u001b[39;00m\u001b[38;5;250m \u001b[39m\u001b[38;5;28;01mimport\u001b[39;00m comb\n\u001b[32m      2\u001b[39m \u001b[38;5;28;01mclass\u001b[39;00m\u001b[38;5;250m \u001b[39m\u001b[34;01mX_B\u001b[39;00m:\n\u001b[32m      3\u001b[39m     \u001b[38;5;28;01mdef\u001b[39;00m\u001b[38;5;250m \u001b[39m\u001b[34m__init__\u001b[39m(\u001b[38;5;28mself\u001b[39m, N, P):\n",
      "\u001b[31mImportError\u001b[39m: cannot import name 'comb' from 'comb' (c:\\Users\\15283\\Desktop\\virtual python\\mystudy\\codes\\distributions\\comb.py)"
     ]
    }
   ],
   "source": [
    "from comb import comb\n",
    "class X_B:\n",
    "    def __init__(self, N, P):\n",
    "        self.N = N\n",
    "        self.P = P\n",
    "        self.k = []\n",
    "        self.f = []\n",
    "    \n",
    "\n",
    "    def generate(self):\n",
    "        n = self.N\n",
    "        p = self.P\n",
    "        for i in self.N:\n",
    "            self.k.append(i)\n",
    "            f = comb(n, i) * (p ** i) * ((1 - p) ** (n - i))\n",
    "            self.f.append(f)\n",
    "\n",
    "\n",
    "\n",
    "\n",
    "\n"
   ]
  }
 ],
 "metadata": {
  "kernelspec": {
   "display_name": "venv",
   "language": "python",
   "name": "python3"
  },
  "language_info": {
   "codemirror_mode": {
    "name": "ipython",
    "version": 3
   },
   "file_extension": ".py",
   "mimetype": "text/x-python",
   "name": "python",
   "nbconvert_exporter": "python",
   "pygments_lexer": "ipython3",
   "version": "3.13.2"
  }
 },
 "nbformat": 4,
 "nbformat_minor": 5
}
