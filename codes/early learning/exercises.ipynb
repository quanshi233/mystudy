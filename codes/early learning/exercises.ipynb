{
 "cells": [
  {
   "cell_type": "code",
   "execution_count": null,
   "metadata": {},
   "outputs": [],
   "source": [
    "first_name = \"shi\"\n",
    "last_name = \"quan\"\n",
    "full_name = f\"{first_name} {last_name}\"\n",
    "print(f\"Hello, {full_name.title()}!\")"
   ]
  },
  {
   "cell_type": "code",
   "execution_count": null,
   "metadata": {},
   "outputs": [],
   "source": [
    "name = '\" shi quan \"'\n",
    "print(name.removesuffix('\"'))"
   ]
  },
  {
   "cell_type": "code",
   "execution_count": null,
   "metadata": {},
   "outputs": [],
   "source": [
    "name = \"shi quan\"\n",
    "message = f'Hello {name.title()}, long time no see'\n",
    "print(message)"
   ]
  },
  {
   "cell_type": "code",
   "execution_count": null,
   "metadata": {},
   "outputs": [],
   "source": [
    "name = ' albert einstein '\n",
    "name = name.strip()\n",
    "name = name.title()\n",
    "saying = 'A person who never made a mistake never tried anything new.'\n",
    "message = f'{name} once said, \\n\"{saying}\"'\n",
    "print(message)"
   ]
  },
  {
   "cell_type": "code",
   "execution_count": null,
   "metadata": {},
   "outputs": [],
   "source": [
    "filename = \"python_notes.txt\"\n",
    "filename = filename.removesuffix('.txt')\n",
    "print(filename)"
   ]
  },
  {
   "cell_type": "code",
   "execution_count": null,
   "metadata": {},
   "outputs": [],
   "source": [
    "x, y,z=12,13,14\n",
    "print(x)\n",
    "print(y)"
   ]
  },
  {
   "cell_type": "code",
   "execution_count": null,
   "metadata": {},
   "outputs": [],
   "source": [
    "import this"
   ]
  },
  {
   "cell_type": "code",
   "execution_count": null,
   "metadata": {},
   "outputs": [],
   "source": [
    "likes = []\n",
    "likes.append('luye')\n",
    "likes.append('shaoye')\n",
    "message = f\"my favorite shota is {likes[0].title()}\"\n",
    "print(message)"
   ]
  },
  {
   "cell_type": "code",
   "execution_count": null,
   "metadata": {},
   "outputs": [],
   "source": [
    "likes = []\n",
    "likes.append('luye')\n",
    "likes.append('shaoye')\n",
    "likes.insert(0, 'xun')\n",
    "print(f\"{likes[0].title()} {likes[1].title()} {likes[2].title()}\")"
   ]
  },
  {
   "cell_type": "code",
   "execution_count": null,
   "metadata": {},
   "outputs": [],
   "source": [
    "likes = []\n",
    "likes.append('luye')\n",
    "likes.append('shaoye')\n",
    "likes.insert(0, 'xun')\n",
    "likes.append('xiaolu')\n",
    "likes.remove('xiaolu')\n",
    "print(likes)"
   ]
  },
  {
   "cell_type": "code",
   "execution_count": null,
   "metadata": {},
   "outputs": [],
   "source": [
    "likes = []\n",
    "likes.append('luye')\n",
    "likes.append('shaoye')\n",
    "likes.insert(0, 'xun')\n",
    "likes.append('xiaolu')\n",
    "a = sorted(likes)\n",
    "print(likes)\n",
    "likes.reverse()\n",
    "print(likes)\n",
    "print(a)\n",
    "len(likes)"
   ]
  },
  {
   "cell_type": "code",
   "execution_count": null,
   "metadata": {},
   "outputs": [],
   "source": [
    "pets = ['dog','cat','bird']\n",
    "for pet in pets:\n",
    "    print(f\"A {pet} would make a great pet\")\n",
    "print(\"Any of these animals would make a great pet\")"
   ]
  },
  {
   "cell_type": "code",
   "execution_count": null,
   "metadata": {},
   "outputs": [],
   "source": [
    "numbers = list(range(1,11))\n",
    "a = []\n",
    "for number in numbers[:5]:\n",
    "    b = number**3\n",
    "    a.append(b)\n",
    "print(a)"
   ]
  },
  {
   "cell_type": "code",
   "execution_count": null,
   "metadata": {},
   "outputs": [],
   "source": [
    "menu = ('pizza','falafel','carrot cake','ice cream', 'cannoli')\n",
    "print(\"The old menu include the following foods:\")\n",
    "for food in menu:\n",
    "    print(f\"{food}\")\n",
    "menu = ('chololate','falafel','carrot cake','popcorn', 'cannoli')\n",
    "print(\"The new menu include the following foods:\")\n",
    "for food in menu:\n",
    "    print(food)\n"
   ]
  },
  {
   "cell_type": "code",
   "execution_count": null,
   "metadata": {},
   "outputs": [],
   "source": [
    "cars = ['bmw','audi']\n",
    "for car in cars:\n",
    "    if car == 'bmw':\n",
    "        print(\"ture\")\n",
    "    else:\n",
    "        print(\"flase\")"
   ]
  },
  {
   "cell_type": "code",
   "execution_count": null,
   "metadata": {},
   "outputs": [],
   "source": [
    "Random_letters = \"fhsdkjfksjdusk\"\n",
    "'z' not in Random_letters"
   ]
  },
  {
   "cell_type": "code",
   "execution_count": null,
   "metadata": {},
   "outputs": [],
   "source": [
    "user_names = ['admin', 'b', 'c', 'd', 'e']\n",
    "if user_names:\n",
    "    for user in user_names:\n",
    "        if (user == 'admin'):\n",
    "            print(f\"Hello {user}, Would you like to see a status report\")\n",
    "        else:\n",
    "            print(f\"Hello {user}, thank you for logging in again\")\n",
    "else:\n",
    "    print(\"We need to find some users.\")"
   ]
  },
  {
   "cell_type": "code",
   "execution_count": null,
   "metadata": {},
   "outputs": [],
   "source": [
    "current_users = ['a', 'B', 'c', 'D', 'e']\n",
    "new_users = ['D', 'E', 'F', 'g', 'h']\n",
    "current_users_0 = []\n",
    "new_users_0 = []\n",
    "for name in current_users:\n",
    "    name = name.upper()\n",
    "    current_users_0.append(name)\n",
    "print(f\"the following users are already registrated:{current_users_0}\")\n",
    "for name in new_users:\n",
    "    name = name.upper()\n",
    "    new_users_0.append(name)\n",
    "print(f\"the following users are trying to register:{new_users_0}\")\n",
    "for user in new_users_0:\n",
    "    if user in current_users_0:\n",
    "        print(f\"{user} is occupied\")\n",
    "    else:\n",
    "        print(f\"Dear {user}, congratulation, your registration passed\")"
   ]
  },
  {
   "cell_type": "code",
   "execution_count": null,
   "metadata": {},
   "outputs": [],
   "source": [
    "numbers = list(range(1,10))\n",
    "for a in numbers:\n",
    "    print(a)\n",
    "for a in numbers:\n",
    "    if a == 1:\n",
    "        print(\"1st\")\n",
    "    elif a == 2:\n",
    "        print(\"2nd\")\n",
    "    else:\n",
    "        print(f\"{a}th\")"
   ]
  },
  {
   "cell_type": "code",
   "execution_count": null,
   "metadata": {},
   "outputs": [],
   "source": [
    "dictionary = {\n",
    "    'a' : 1,\n",
    "    'b' : 2,\n",
    "    'c' : 3,\n",
    "    'd' : 4,\n",
    "    'e' : 5,\n",
    "    }\n",
    "for k,v in dictionary.items():\n",
    "    print(f\"the meaning of {k} is {v}\")"
   ]
  },
  {
   "cell_type": "code",
   "execution_count": null,
   "metadata": {},
   "outputs": [],
   "source": [
    "great_rivers = {\n",
    "    'Yangtze' : 'China',\n",
    "    'Nile' : 'Egypt',\n",
    "    'Yellow' : 'China',\n",
    "    }\n",
    "for k,v in great_rivers.items():\n",
    "    print(f\"The {k} river runs through {v}\")\n",
    "print(\"\\nThe following rivers are mentioned:\")\n",
    "for k in set(great_rivers.keys()):\n",
    "    print(k)\n",
    "print(\"\\nThe following Countries are mentioned\")\n",
    "for v in set(great_rivers.values()):\n",
    "    print(v)"
   ]
  },
  {
   "cell_type": "code",
   "execution_count": null,
   "metadata": {},
   "outputs": [],
   "source": [
    "favorite_languages = { \n",
    "    'jen': ['python', 'ruby'], \n",
    "    'sarah': ['c'], \n",
    "    'edward': ['ruby', 'go'], \n",
    "    'phil': ['python', 'haskell'], \n",
    "    }\n",
    "for name, languages in favorite_languages.items(): \n",
    "    if (len(languages) == 1):\n",
    "        print(f\"\\n {name.title()}'s favorite languages is {language}\")\n",
    "    else:\n",
    "        print(f\"\\n {name.title()}'s favorite languages are:\") \n",
    "        for language in languages: \n",
    "            print(f\"\\t{language.title()}\") "
   ]
  },
  {
   "cell_type": "code",
   "execution_count": null,
   "metadata": {},
   "outputs": [],
   "source": [
    "prompt = \"please put your name in\"\n",
    "prompt += \"\\tand\"\n",
    "print(prompt)\n",
    "message = input(prompt)\n",
    "print(message)"
   ]
  },
  {
   "cell_type": "code",
   "execution_count": null,
   "metadata": {},
   "outputs": [],
   "source": [
    "topping = \"\"\n",
    "prompt = \"Please put the topping you need:\"\n",
    "prompt += \"Enter 'enough' to stop\"\n",
    "message = \"you have ask for\"\n",
    "while True:\n",
    "    topping = input(prompt)\n",
    "    if topping == 'quit':\n",
    "        break\n",
    "    else:\n",
    "        print(f\"{message} {topping}\")"
   ]
  },
  {
   "cell_type": "code",
   "execution_count": null,
   "metadata": {},
   "outputs": [],
   "source": [
    "prompt = \"How old are you?(press 'quit' to leave)\"\n",
    "while True:\n",
    "    age = input(prompt)\n",
    "    if age == 'quit':\n",
    "        break\n",
    "    age = float(age)\n",
    "    if (age <= 3):\n",
    "        print(\"you admission fee is free\")\n",
    "    elif(age <= 12):\n",
    "        print(\"your admission fee is ＄10\")\n",
    "    else:\n",
    "        print(\"your admission fee is ＄15\")"
   ]
  },
  {
   "cell_type": "code",
   "execution_count": null,
   "metadata": {},
   "outputs": [],
   "source": [
    "print(\"We have run out of pastrami\")\n",
    "sanwich_orders = ['tuna', 'pastrami', 'pepper', 'pastrami', 'cheese','pastrami']\n",
    "while 'pastrami' in sanwich_orders:\n",
    "    sanwich_orders.remove('pastrami')\n",
    "finished_sanwiches =[]\n",
    "while sanwich_orders:\n",
    "    current_sanwich = sanwich_orders.pop()\n",
    "    finished_sanwiches.append(current_sanwich.lower())\n",
    "    print(f\"{current_sanwich.title()} sanwich have been finished\")\n",
    "print(\"The following sanwiches have been made:\")\n",
    "for sanwich in finished_sanwiches:\n",
    "    print(f\"{sanwich.title()} sanwich\")"
   ]
  },
  {
   "cell_type": "code",
   "execution_count": null,
   "metadata": {},
   "outputs": [],
   "source": [
    "name_and_destination = {}\n",
    "activate = True\n",
    "while activate:\n",
    "    name = input(\"What's your name?\")\n",
    "    destination = input(\"Where is you dream haven?\")\n",
    "    name_and_destination[name] = destination\n",
    "    repeat = input(\"Is there someone else who didn't join?(yes \\ no)\")\n",
    "    if repeat == 'no':\n",
    "        activate = False\n",
    "print(\"---Collection Results---\")\n",
    "for name,destination in name_and_destination.items():\n",
    "    print(f\"{name}'s dream haven is {destination}\")"
   ]
  },
  {
   "cell_type": "code",
   "execution_count": null,
   "metadata": {},
   "outputs": [],
   "source": [
    "def city_country(city, country):\n",
    "    a = f\"{city} {country}\"\n",
    "    return a.title()\n",
    "while True:\n",
    "    print(\"please press your city and country:\\n(press 'q' at any time to quit)\")\n",
    "    city = input(\"city\")\n",
    "    if city == 'q':\n",
    "        break\n",
    "    country = input(\"country\")\n",
    "    if country == 'q':\n",
    "        break\n",
    "    message = city_country(city, country)\n",
    "    print(message)"
   ]
  },
  {
   "cell_type": "code",
   "execution_count": null,
   "metadata": {},
   "outputs": [],
   "source": [
    "def make_album(song_name, singer_name, song_quantity=None):\n",
    "    a = {song_name : singer_name}\n",
    "    if song_quantity != 0:\n",
    "        a['song_quantity'] = song_quantity\n",
    "    return a\n",
    "album = []\n",
    "while True:\n",
    "    print(\"please add the song_name and the singer_name:\\n(press 'q' at any time to quit)\")\n",
    "    song_name = input(\"song_name:\")\n",
    "    if song_name == 'q':\n",
    "        break\n",
    "    singer_name = input(\"singer_name:\")\n",
    "    if singer_name == 'q':\n",
    "        break\n",
    "    song_quantaty_0 = input(\"song_quantaty:\")\n",
    "    song_quantaty_0 = int(song_quantaty_0)\n",
    "    album_0 = make_album(song_name, singer_name, song_quantity = song_quantaty_0)\n",
    "    album.append(album_0)\n",
    "for i in album:\n",
    "    print(i)\n"
   ]
  },
  {
   "cell_type": "code",
   "execution_count": null,
   "metadata": {},
   "outputs": [],
   "source": [
    "def show_message(messages):\n",
    "    for message in messages:\n",
    "        print(message)\n",
    "def send_message(messages, new_message):\n",
    "    while messages:\n",
    "        a = messages.pop()\n",
    "        new_message.append(a)\n",
    "messages_0 = ['banana', 'apple', 'orange']\n",
    "new_message_0 = []\n",
    "send_message(messages_0[:], new_message_0)\n",
    "print(f\"{new_message_0}\\n\")\n",
    "print(messages_0)"
   ]
  },
  {
   "cell_type": "code",
   "execution_count": null,
   "metadata": {},
   "outputs": [],
   "source": [
    "def make_sanwich(*toppings):\n",
    "    print(\"You have order the following toppings:\")\n",
    "    for topping in toppings:\n",
    "        print(f\"{topping}\")\n",
    "\n",
    "toppings_0 = []\n",
    "make_sanwich('pepper', 'cheese', 'ketup')"
   ]
  },
  {
   "cell_type": "code",
   "execution_count": null,
   "metadata": {},
   "outputs": [],
   "source": [
    "def make_car(manufacturer, model, **car_information):\n",
    "    car_information['manufacturer'] = manufacturer\n",
    "    car_information['model'] =model\n",
    "    return car_information\n",
    "car = make_car('subaru', 'outback', car_color = 'blue', two_package = True)\n",
    "print(car)"
   ]
  },
  {
   "cell_type": "code",
   "execution_count": null,
   "metadata": {},
   "outputs": [],
   "source": [
    "from pizza import make_pizza as mp\n",
    "\n",
    "a = []\n",
    "b = input(\"Please input your size:\")\n",
    "b = int(b)\n",
    "a.append(b)\n",
    "while True:\n",
    "    c = input(\"please input your topping:\\n(press q to quit)\")\n",
    "    if c =='q':\n",
    "        break\n",
    "    a.append(c)\n",
    "mp(*a)"
   ]
  },
  {
   "cell_type": "code",
   "execution_count": null,
   "metadata": {},
   "outputs": [],
   "source": [
    "class Restaurant:\n",
    "    def __init__(self, restaurant_name, restaurant_type):\n",
    "        self.name = restaurant_name\n",
    "        self.type = restaurant_type\n",
    "        self.number_served = 0\n",
    "\n",
    "    def describe_restaurant(self):\n",
    "        print(f\"The restaurant's name is '{self.name}', it provides\"\n",
    "              f\" '{self.type}', {self.number_served} people have been visited here.\")\n",
    "\n",
    "    def open_restaurant(self):\n",
    "        print(f\"The restaurant '{self.name}' is open now.\")\n",
    "\n",
    "    def set_number_served(self, number_served):\n",
    "        number_served = int(number_served)\n",
    "        self.number_served = number_served\n",
    "\n",
    "    def increment_number_served(self, increased_served):\n",
    "        increased_served = int(increased_served)\n",
    "        self.number_served += increased_served\n",
    "\n",
    "my_restaurant = Restaurant('Yummy Food', 'Franch food')\n",
    "my_restaurant.set_number_served(5)\n",
    "my_restaurant.increment_number_served(20)\n",
    "my_restaurant.describe_restaurant()\n",
    "my_restaurant.open_restaurant()"
   ]
  },
  {
   "cell_type": "code",
   "execution_count": null,
   "metadata": {},
   "outputs": [],
   "source": [
    "class User:\n",
    "    def __init__(self, first_name, last_name):\n",
    "        self.first_name = first_name\n",
    "        self.last_name = last_name\n",
    "        self.full_name = f\"{self.first_name} {self.last_name}\"\n",
    "        self.login_attempt = 0\n",
    "\n",
    "    def describe_user(self):\n",
    "        print(f\"The user's name is {self.full_name}\")\n",
    "    \n",
    "    def greet_user(self):\n",
    "        print(f\"Hello {self.full_name}\")\n",
    "\n",
    "    def reset_login_attempts(self):\n",
    "        self.login_attempt = 0\n",
    "\n",
    "    def increment_login_attempts(self):\n",
    "        self.login_attempt += 1\n",
    "\n",
    "class Priviledges:\n",
    "    def __init__(self, priviledges):\n",
    "        self.priviledges = priviledges\n",
    "\n",
    "    def show_priviledge(self):\n",
    "        print(\"As the admin, you can operate the following content:\")\n",
    "        for priviledge in self.priviledges:\n",
    "            print(f\"-{priviledge}\")\n",
    "\n",
    "\n",
    "class Admin(User):\n",
    "    def __init__(self, first_name, last_name, priviledges):\n",
    "        super().__init__(first_name, last_name)\n",
    "        self.priviledge = Priviledges(priviledges)\n",
    "\n",
    "priviledges = ['can add post', 'can delete post', 'can ban user']\n",
    "user_0 = Admin('Shi', 'Quan', priviledges)\n",
    "user_0.describe_user()\n",
    "user_0.greet_user()\n",
    "user_0.increment_login_attempts()\n",
    "user_0.increment_login_attempts()\n",
    "user_0.reset_login_attempts()\n",
    "user_0.priviledge.show_priviledge()\n",
    "print(f\"{user_0.full_name} have tried to login in for {user_0.login_attempt} times.\")"
   ]
  },
  {
   "cell_type": "code",
   "execution_count": null,
   "metadata": {},
   "outputs": [],
   "source": [
    "from user import User\n",
    "from admin import Admin, Priviledges\n",
    "\n",
    "priviledges = ['can add post', 'can delete post', 'can ban user']\n",
    "user_0 = Admin('Shi', 'Quan', priviledges)\n",
    "user_0.describe_user()\n",
    "user_0.greet_user()\n",
    "user_0.increment_login_attempts()\n",
    "user_0.increment_login_attempts()\n",
    "user_0.reset_login_attempts()\n",
    "user_0.priviledge.show_priviledge()\n",
    "print(f\"{user_0.full_name} have tried to login in for {user_0.login_attempt} times.\")"
   ]
  },
  {
   "cell_type": "code",
   "execution_count": 24,
   "metadata": {},
   "outputs": [
    {
     "name": "stdout",
     "output_type": "stream",
     "text": [
      "9109\n",
      "c\n"
     ]
    }
   ],
   "source": [
    "from random import randint\n",
    "from random import choice\n",
    "a = randint(1,10000)\n",
    "print(a)\n",
    "\n",
    "b = ['a', 'b', 'c', 'd', 'e', 'f']\n",
    "c = choice(b)\n",
    "print(c)"
   ]
  }
 ],
 "metadata": {
  "kernelspec": {
   "display_name": "venv",
   "language": "python",
   "name": "python3"
  },
  "language_info": {
   "codemirror_mode": {
    "name": "ipython",
    "version": 3
   },
   "file_extension": ".py",
   "mimetype": "text/x-python",
   "name": "python",
   "nbconvert_exporter": "python",
   "pygments_lexer": "ipython3",
   "version": "3.13.2"
  }
 },
 "nbformat": 4,
 "nbformat_minor": 2
}
